{
 "cells": [
  {
   "cell_type": "code",
   "execution_count": null,
   "id": "e38a8d37",
   "metadata": {},
   "outputs": [
    {
     "name": "stdout",
     "output_type": "stream",
     "text": [
      "title =  레드벨벳 (Red Velvet) - Queendom (퀸덤) FULL DANCE COVER 안무 커버댄스 거울모드 (Mirrored)\n",
      "video.rating =  None\n",
      "video.duration =  00:03:03\n",
      "best.resolution 640x360\n",
      "====================\n",
      "====================\n",
      "====================\n",
      "====================\n",
      "====================\n"
     ]
    }
   ],
   "source": [
    "import threading\n",
    "import cv2, pafy\n",
    "import mediapipe as mp\n",
    "import json\n",
    "import numpy as np\n",
    "import socket # TCP, UDP 송신용 \n",
    "import sys\n",
    "mp_drawing = mp.solutions.drawing_utils\n",
    "\n",
    "mp_pose = mp.solutions.pose\n",
    "\n",
    "SOCKET_IP = '127.0.0.1'\n",
    "SOCKET_PORT = 9505\n",
    "\n",
    "sock = socket.socket(socket.AF_INET, socket.SOCK_DGRAM) #UDP 소켓\n",
    "# sock = socket.socket(socket.AF_INET, socket.SOCK_STREAM) #TCP 소켓\n",
    "\n",
    "\"\"\"\n",
    "2021년 11월쯤에 유튜브에서 싫어요를 제외시켜서\n",
    "자꾸 실행할때 싫어요에 관련된 오류가 발생함\n",
    "pafy 에 가서        \n",
    "self._dislikes = self._ydl_info['dislike_count']\n",
    "이 문장을 삭제하면 잘됨\n",
    "리스트 형태로 보내니까 - 유니티에서 로그가 매번 갱신함 \n",
    "즉- 업데이트가 잘됨\n",
    "\"\"\"\n",
    "\n",
    "url = 'https://www.youtube.com/watch?v=EnCVaLIOIV4'\n",
    "video = pafy.new(url)\n",
    "print('title = ', video.title)\n",
    "print('video.rating = ', video.rating)\n",
    "print('video.duration = ', video.duration)\n",
    "# best = video.getbest(preftype='webm')     # 'mp4','3gp'\n",
    "best = video.getbest()\n",
    "print('best.resolution', best.resolution)\n",
    "\n",
    "cap = cv2.VideoCapture(best.url)\n",
    "\n",
    "## Setup mediapipe instance\n",
    "with mp_pose.Pose(static_image_mode=True, enable_segmentation=True, min_detection_confidence=0.5,\n",
    "                  min_tracking_confidence=0.5) as pose:\n",
    "    while cap.isOpened():\n",
    "        ret, frame = cap.read()\n",
    "\n",
    "        # Recolor image to RGB\n",
    "        image = cv2.cvtColor(frame, cv2.COLOR_BGR2RGB)\n",
    "        image.flags.writeable = False\n",
    "\n",
    "        # Make detection\n",
    "        results = pose.process(image)\n",
    "\n",
    "        # Recolor back to BGR\n",
    "        image.flags.writeable = True\n",
    "        image = cv2.cvtColor(image, cv2.COLOR_RGB2BGR)\n",
    "\n",
    "        print(\"==\" * 10)\n",
    "\n",
    "        try:\n",
    "            landmarks = results.pose_landmarks.landmark\n",
    "            # print(landmarks)\n",
    "\n",
    "            final_data = [{\"X\": lmk.x, \"Y\": lmk.y, \"Z\": lmk.z} for lmk in results.pose_landmarks.landmark]\n",
    "\n",
    "            #print(final_data)\n",
    "            print(\"###\" * 2)\n",
    "            \n",
    "\n",
    "            try:\n",
    "                item = {\"items\": final_data}\n",
    "                item = json.dumps(item)\n",
    "                print(\"O-O\"*10)\n",
    "                print(item)\n",
    "                \n",
    "            except:\n",
    "                print(\"item에서 에러 발생\")\n",
    "\n",
    "            Message = str(json.loads(item.replace(\"\\n\", \"\")))#.replace(\"\\n\", \"\")\n",
    "            sock.sendto(Message.encode(), (SOCKET_IP, SOCKET_PORT))\n",
    "\n",
    "        except:\n",
    "            pass  # countinue로 하면 cap창이 안뜸\n",
    "\n",
    "        # Render detections\n",
    "        mp_drawing.draw_landmarks(image, results.pose_landmarks, mp_pose.POSE_CONNECTIONS,\n",
    "                                  mp_drawing.DrawingSpec(color=(245, 117, 66), thickness=2, circle_radius=2),\n",
    "                                  mp_drawing.DrawingSpec(color=(245, 66, 230), thickness=2, circle_radius=2)\n",
    "                                  )\n",
    "\n",
    "        cv2.imshow('Mediapipe Feed', image)\n",
    "\n",
    "        if cv2.waitKey(10) & 0xFF == ord('q'):\n",
    "            break\n",
    "\n",
    "    cap.release()\n",
    "    cv2.destroyAllWindows()"
   ]
  },
  {
   "cell_type": "code",
   "execution_count": null,
   "id": "362c9a48",
   "metadata": {
    "scrolled": false
   },
   "outputs": [],
   "source": [
    "Message"
   ]
  },
  {
   "cell_type": "code",
   "execution_count": 3,
   "id": "90603907",
   "metadata": {
    "scrolled": true
   },
   "outputs": [
    {
     "data": {
      "text/plain": [
       "33"
      ]
     },
     "execution_count": 3,
     "metadata": {},
     "output_type": "execute_result"
    }
   ],
   "source": [
    "len(list_poselandmark_x)"
   ]
  },
  {
   "cell_type": "code",
   "execution_count": null,
   "id": "ed32a431",
   "metadata": {},
   "outputs": [],
   "source": [
    "data = [[lmk.x, lmk.y, lmk.z] for lmk in results.pose_landmarks.landmark]\n",
    "final_data = json.dumps(data, indent=4)\n",
    "print(final_data)"
   ]
  }
 ],
 "metadata": {
  "kernelspec": {
   "display_name": "Python 3 (ipykernel)",
   "language": "python",
   "name": "python3"
  },
  "language_info": {
   "codemirror_mode": {
    "name": "ipython",
    "version": 3
   },
   "file_extension": ".py",
   "mimetype": "text/x-python",
   "name": "python",
   "nbconvert_exporter": "python",
   "pygments_lexer": "ipython3",
   "version": "3.8.12"
  }
 },
 "nbformat": 4,
 "nbformat_minor": 5
}
